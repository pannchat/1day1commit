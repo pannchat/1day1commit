{
 "cells": [
  {
   "cell_type": "code",
   "execution_count": 8,
   "id": "83804aba",
   "metadata": {},
   "outputs": [
    {
     "data": {
      "text/plain": [
       "[None, 20, 10, 15, 5, 4, 8]"
      ]
     },
     "execution_count": 8,
     "metadata": {},
     "output_type": "execute_result"
    }
   ],
   "source": [
    "class Heap:\n",
    "    def __init__(self, data):\n",
    "        self.heap_arr = list()\n",
    "        self.heap_arr.append(None)\n",
    "        self.heap_arr.append(data)\n",
    "    \n",
    "    def move_up(self,inserted_idx):# 이 노드가 바뀌어야하는 노드인지 판단\n",
    "        if inserted_idx <= 1:# 루트노드라면\n",
    "            return False\n",
    "        parent_idx = inserted_idx // 2\n",
    "        if self.heap_arr[inserted_idx] > self.heap_arr[parent_idx]:\n",
    "            return True\n",
    "        else:\n",
    "            return False\n",
    "        \n",
    "    def insert(self, data):\n",
    "        if len(self.heap_arr) == 0:\n",
    "            self.heap_arr.append(None)\n",
    "            self.heap_arr.append(data)\n",
    "            return True\n",
    "        \n",
    "        self.heap_arr.append(data)\n",
    "\n",
    "        inserted_idx = len(self.heap_arr)-1\n",
    "        \n",
    "        while self.move_up(inserted_idx):\n",
    "            parent_idx = inserted_idx // 2\n",
    "            self.heap_arr[inserted_idx], self.heap_arr[parent_idx] = self.heap_arr[parent_idx], self.heap_arr[inserted_idx]\n",
    "            inserted_idx = parent_idx\n",
    "            \n",
    "heap = Heap(15)\n",
    "heap.insert(10)\n",
    "heap.insert(8)\n",
    "heap.insert(5)\n",
    "heap.insert(4)\n",
    "heap.insert(20)\n",
    "heap.heap_arr"
   ]
  },
  {
   "cell_type": "code",
   "execution_count": 37,
   "id": "8fcf6625",
   "metadata": {},
   "outputs": [
    {
     "data": {
      "text/plain": [
       "[None, 20, 10, 15, 5, 4, 8]"
      ]
     },
     "execution_count": 37,
     "metadata": {},
     "output_type": "execute_result"
    }
   ],
   "source": [
    "class Heap:\n",
    "    def __init__(self, data):\n",
    "        self.heap_arr = list()\n",
    "        self.heap_arr.append(None)\n",
    "        self.heap_arr.append(data)\n",
    "        \n",
    "    def move_down(self,poped_idx):\n",
    "        left_child_poped_idx = poped_idx*2\n",
    "        right_child_poped_idx = poped_idx*2 + 1\n",
    "        \n",
    "        # 왼쪽,오른쪽 자식노드가 없을 때\n",
    "        if left_child_poped_idx >= len(self.heap_arr): # 없는 값을 가리키고 있는것\n",
    "            return False\n",
    "        # 오른쪽 자식노드만 없을 때\n",
    "        elif right_child_poped_idx >= len(self.heap_arr):\n",
    "            if self.heap_arr[poped_idx] < self.heap_arr[left_child_poped_idx]: # 왼쪽 자식은 있는데 왼쪽 자식이 더 크다면 위치를 바꿔야한다.\n",
    "                return True\n",
    "            else:\n",
    "                return False\n",
    "            # 왼쪽 오른 쪽 모두 자식 노드 있을 때\n",
    "        else:\n",
    "            if self.heap_arr[left_child_poped_idx] > self.heap_arr[right_child_poped_idx]:\n",
    "                if self.heap_arr[poped_idx] < self.heap_arr[left_child_poped_idx]: # 자식노드중 더 큰 왼쪽이 부모보다 크면 위치 바꾸기\n",
    "                    return True\n",
    "                else:\n",
    "                    return False\n",
    "            else:\n",
    "                if self.heap_arr[poped_idx] < self.heap_arr[right_child_poped_idx]: # 자신보다 오른쪽 자식이 더 크다면 오른쪽과 위치 바꾸기\n",
    "                    return True\n",
    "                else:\n",
    "                    return False\n",
    "                    \n",
    "                \n",
    "    def pop(self):\n",
    "        if len(self.heap_arr) <= 1:\n",
    "            return None\n",
    "        returned_data = self.heap_arr[1]\n",
    "        \n",
    "        self.heap_arr[1] = self.heap_arr[-1]\n",
    "        del self.heap_arr[-1]\n",
    "        poped_idx = 1\n",
    "        while self.move_down(poped_idx):\n",
    "            if right_child_poped_idx >= len(self.heap_arr):\n",
    "                if self.heap_arr[poped_idx] < self.heap_arr[left_child_poped_idx]: # 왼쪽 자식은 있는데 왼쪽 자식이 더 크다면 위치를 바꿔야한다.\n",
    "                    self.heap_arr[poped_idx], self.heap_arr[left_child_poped_idx] =  self.heap_arr[left_child_poped_idx], self.heap_arr[poped_idx]\n",
    "                    poped_idx = left_child_poped_idx\n",
    "                # 왼쪽 오른 쪽 모두 자식 노드 있을 때\n",
    "            else:\n",
    "                if self.heap_arr[left_child_poped_idx] > self.heap_arr[right_child_poped_idx]:\n",
    "                    if self.heap_arr[poped_idx] < self.heap_arr[left_child_poped_idx]: # 자식노드중 더 큰 왼쪽이 부모보다 크면 위치 바꾸기\n",
    "                        self.heap_arr[poped_idx], self.heap_arr[left_child_poped_idx] =  self.heap_arr[left_child_poped_idx], self.heap_arr[poped_idx]\n",
    "                        poped_idx = left_child_poped_idx\n",
    "                    else:\n",
    "                        if self.heap_arr[poped_idx] < self.heap_arr[right_child_poped_idx]: # 자신보다 오른쪽 자식이 더 크다면 오른쪽과 위치 바꾸기\n",
    "                            self.heap_arr[poped_idx], self.heap_arr[right_child_poped_idx] =  self.heap_arr[right_child_poped_idx], self.heap_arr[poped_idx]\n",
    "                            poped_idx = right_child_poped_idx\n",
    "        return returned_data\n",
    "    \n",
    "    def move_up(self,inserted_idx):# 이 노드가 바뀌어야하는 노드인지 판단\n",
    "        if inserted_idx <= 1:# 루트노드라면\n",
    "            return False\n",
    "        parent_idx = inserted_idx // 2\n",
    "        if self.heap_arr[inserted_idx] > self.heap_arr[parent_idx]:\n",
    "            return True\n",
    "        else:\n",
    "            return False\n",
    "        \n",
    "    def insert(self, data):\n",
    "        if len(self.heap_arr) == 0:\n",
    "            self.heap_arr.append(None)\n",
    "            self.heap_arr.append(data)\n",
    "            return True\n",
    "        \n",
    "        self.heap_arr.append(data)\n",
    "\n",
    "        inserted_idx = len(self.heap_arr)-1\n",
    "        \n",
    "        while self.move_up(inserted_idx):\n",
    "            parent_idx = inserted_idx // 2\n",
    "            self.heap_arr[inserted_idx], self.heap_arr[parent_idx] = self.heap_arr[parent_idx], self.heap_arr[inserted_idx]\n",
    "            inserted_idx = parent_idx\n",
    "            \n",
    "heap = Heap(15)\n",
    "heap.insert(10)\n",
    "heap.insert(8)\n",
    "heap.insert(5)\n",
    "heap.insert(4)\n",
    "heap.insert(20)\n",
    "heap.heap_arr"
   ]
  },
  {
   "cell_type": "code",
   "execution_count": null,
   "id": "ce380dd0",
   "metadata": {},
   "outputs": [],
   "source": []
  },
  {
   "cell_type": "code",
   "execution_count": 38,
   "id": "c2c2a727",
   "metadata": {},
   "outputs": [
    {
     "ename": "NameError",
     "evalue": "name 'right_child_poped_idx' is not defined",
     "output_type": "error",
     "traceback": [
      "\u001b[0;31m---------------------------------------------------------------------------\u001b[0m",
      "\u001b[0;31mNameError\u001b[0m                                 Traceback (most recent call last)",
      "\u001b[0;32m<ipython-input-38-0f377c6a090f>\u001b[0m in \u001b[0;36m<module>\u001b[0;34m\u001b[0m\n\u001b[0;32m----> 1\u001b[0;31m \u001b[0mheap\u001b[0m\u001b[0;34m.\u001b[0m\u001b[0mpop\u001b[0m\u001b[0;34m(\u001b[0m\u001b[0;34m)\u001b[0m\u001b[0;34m\u001b[0m\u001b[0;34m\u001b[0m\u001b[0m\n\u001b[0m",
      "\u001b[0;32m<ipython-input-37-22280dd73aab>\u001b[0m in \u001b[0;36mpop\u001b[0;34m(self)\u001b[0m\n\u001b[1;32m     41\u001b[0m         \u001b[0mpoped_idx\u001b[0m \u001b[0;34m=\u001b[0m \u001b[0;36m1\u001b[0m\u001b[0;34m\u001b[0m\u001b[0;34m\u001b[0m\u001b[0m\n\u001b[1;32m     42\u001b[0m         \u001b[0;32mwhile\u001b[0m \u001b[0mself\u001b[0m\u001b[0;34m.\u001b[0m\u001b[0mmove_down\u001b[0m\u001b[0;34m(\u001b[0m\u001b[0mpoped_idx\u001b[0m\u001b[0;34m)\u001b[0m\u001b[0;34m:\u001b[0m\u001b[0;34m\u001b[0m\u001b[0;34m\u001b[0m\u001b[0m\n\u001b[0;32m---> 43\u001b[0;31m             \u001b[0;32mif\u001b[0m \u001b[0mright_child_poped_idx\u001b[0m \u001b[0;34m>=\u001b[0m \u001b[0mlen\u001b[0m\u001b[0;34m(\u001b[0m\u001b[0mself\u001b[0m\u001b[0;34m.\u001b[0m\u001b[0mheap_arr\u001b[0m\u001b[0;34m)\u001b[0m\u001b[0;34m:\u001b[0m\u001b[0;34m\u001b[0m\u001b[0;34m\u001b[0m\u001b[0m\n\u001b[0m\u001b[1;32m     44\u001b[0m                 \u001b[0;32mif\u001b[0m \u001b[0mself\u001b[0m\u001b[0;34m.\u001b[0m\u001b[0mheap_arr\u001b[0m\u001b[0;34m[\u001b[0m\u001b[0mpoped_idx\u001b[0m\u001b[0;34m]\u001b[0m \u001b[0;34m<\u001b[0m \u001b[0mself\u001b[0m\u001b[0;34m.\u001b[0m\u001b[0mheap_arr\u001b[0m\u001b[0;34m[\u001b[0m\u001b[0mleft_child_poped_idx\u001b[0m\u001b[0;34m]\u001b[0m\u001b[0;34m:\u001b[0m \u001b[0;31m# 왼쪽 자식은 있는데 왼쪽 자식이 더 크다면 위치를 바꿔야한다.\u001b[0m\u001b[0;34m\u001b[0m\u001b[0;34m\u001b[0m\u001b[0m\n\u001b[1;32m     45\u001b[0m                     \u001b[0mself\u001b[0m\u001b[0;34m.\u001b[0m\u001b[0mheap_arr\u001b[0m\u001b[0;34m[\u001b[0m\u001b[0mpoped_idx\u001b[0m\u001b[0;34m]\u001b[0m\u001b[0;34m,\u001b[0m \u001b[0mself\u001b[0m\u001b[0;34m.\u001b[0m\u001b[0mheap_arr\u001b[0m\u001b[0;34m[\u001b[0m\u001b[0mleft_child_poped_idx\u001b[0m\u001b[0;34m]\u001b[0m \u001b[0;34m=\u001b[0m  \u001b[0mself\u001b[0m\u001b[0;34m.\u001b[0m\u001b[0mheap_arr\u001b[0m\u001b[0;34m[\u001b[0m\u001b[0mleft_child_poped_idx\u001b[0m\u001b[0;34m]\u001b[0m\u001b[0;34m,\u001b[0m \u001b[0mself\u001b[0m\u001b[0;34m.\u001b[0m\u001b[0mheap_arr\u001b[0m\u001b[0;34m[\u001b[0m\u001b[0mpoped_idx\u001b[0m\u001b[0;34m]\u001b[0m\u001b[0;34m\u001b[0m\u001b[0;34m\u001b[0m\u001b[0m\n",
      "\u001b[0;31mNameError\u001b[0m: name 'right_child_poped_idx' is not defined"
     ]
    }
   ],
   "source": [
    "heap.pop()"
   ]
  },
  {
   "cell_type": "code",
   "execution_count": 75,
   "id": "cff87ee4",
   "metadata": {},
   "outputs": [],
   "source": [
    "class Heap:\n",
    "    def __init__(self, data):\n",
    "        self.arr = list()\n",
    "        self.arr.append(None)\n",
    "        self.arr.append(data)\n",
    "    def move_up(self,inserted_index):\n",
    "        if inserted_index <= 1:\n",
    "            return False\n",
    "        parent_index = inserted_index // 2\n",
    "        if self.arr[parent_index] < self.arr[inserted_index]:\n",
    "            return True\n",
    "        else:\n",
    "            return False\n",
    "    def add(self,data):\n",
    "        if len(self.arr) == 0:\n",
    "            self.arr.append(None)\n",
    "            self.arr.append(data)\n",
    "        self.arr.append(data)\n",
    "        inserted_index = len(self.arr) -1\n",
    "        while self.move_up(inserted_index):\n",
    "            arr_parent = inserted_index // 2\n",
    "            self.arr[arr_parent],self.arr[inserted_index] = self.arr[inserted_index], self.arr[arr_parent]\n",
    "            inserted_index = arr_parent\n",
    "            \n",
    "    def move_down(self, poped_idx):\n",
    "        left_child_idx = poped_idx * 2\n",
    "        right_child_idx = poped_idx * 2 + 1\n",
    "        \n",
    "        if left_child_idx >= len(self.arr) :\n",
    "            return False\n",
    "        elif right_child_idx >= len(self.arr):\n",
    "            if self.arr[left_child_idx] > self.arr[poped_idx]:\n",
    "                return True\n",
    "            else:\n",
    "                return False\n",
    "        else:\n",
    "            if self.arr[left_child_idx] > self.arr[right_child_idx]:\n",
    "                if self.arr[poped_idx] < self.arr[left_child_idx]:\n",
    "                    return True\n",
    "                else:\n",
    "                    return False\n",
    "            else:\n",
    "                if self.arr[poped_idx] < self.arr[right_child_idx]:\n",
    "                    return True\n",
    "                else:\n",
    "                    return False\n",
    "    def pop(self):\n",
    "        if len(self.arr) <= 1:\n",
    "            return None\n",
    "        returned_data = self.arr[1]\n",
    "        self.arr[1] = self.arr[-1]\n",
    "        del self.arr[-1]\n",
    "        poped_idx = 1\n",
    "        \n",
    "        while self.move_down(poped_idx):\n",
    "            left_child_idx = poped_idx * 2\n",
    "            right_child_idx = poped_idx *2 + 1\n",
    "            \n",
    "            if right_child_idx >= len(self.arr):\n",
    "                if self.arr[poped_idx] < self.arr[left_child_idx]:\n",
    "                    self.arr[poped_idx], self.arr[left_child_idx] = self.arr[left_child_idx], self.arr[poped_idx]\n",
    "                    poped_idx = left_child_idx\n",
    "            else:\n",
    "                if self.arr[left_child_idx] > self.arr[right_child_idx]:\n",
    "                    if self.arr[left_child_idx] > self.arr[poped_idx]:\n",
    "                        self.arr[poped_idx], self.arr[left_child_idx] = self.arr[left_child_idx], self.arr[poped_idx]\n",
    "                        poped_idx = left_child_idx\n",
    "                    else:\n",
    "                        if self.arr[right_child_idx] > self.arr[poped_idx]:\n",
    "                            self.arr[poped_idx], self.arr[right_child_idx] = self.arr[right_child_idx], self.arr[poped_idx]\n",
    "                            poped_idx = right_child_idx\n",
    "        return returned_data\n",
    "            "
   ]
  },
  {
   "cell_type": "code",
   "execution_count": 78,
   "id": "164f1d8a",
   "metadata": {},
   "outputs": [
    {
     "name": "stdout",
     "output_type": "stream",
     "text": [
      "test ~~ zzend"
     ]
    }
   ],
   "source": [
    "print('test','zz' ,end=\"end\", sep=\" ~~ \")"
   ]
  },
  {
   "cell_type": "code",
   "execution_count": 76,
   "id": "6b08e1ce",
   "metadata": {},
   "outputs": [
    {
     "data": {
      "text/plain": [
       "[None, 6, 5, 3, 2, 1]"
      ]
     },
     "execution_count": 76,
     "metadata": {},
     "output_type": "execute_result"
    }
   ],
   "source": [
    "test = Heap(5)\n",
    "test.add(6)\n",
    "test.add(2)\n",
    "test.add(9)\n",
    "test.add(1)\n",
    "test.add(3)\n",
    "test.pop()\n",
    "test.arr\n"
   ]
  },
  {
   "cell_type": "code",
   "execution_count": null,
   "id": "b36ffdd0",
   "metadata": {},
   "outputs": [],
   "source": [
    "def test(x,y):\n",
    "    if x == y :\n",
    "        return True\n",
    "    elif x>y :\n",
    "        return test(x/y,y)\n",
    "    elif x < y:\n",
    "        False\n",
    "\n",
    "test(5,2)"
   ]
  }
 ],
 "metadata": {
  "kernelspec": {
   "display_name": "Python 3",
   "language": "python",
   "name": "python3"
  },
  "language_info": {
   "codemirror_mode": {
    "name": "ipython",
    "version": 3
   },
   "file_extension": ".py",
   "mimetype": "text/x-python",
   "name": "python",
   "nbconvert_exporter": "python",
   "pygments_lexer": "ipython3",
   "version": "3.8.8"
  }
 },
 "nbformat": 4,
 "nbformat_minor": 5
}
