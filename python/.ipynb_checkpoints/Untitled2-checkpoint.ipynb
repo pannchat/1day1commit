{
 "cells": [
  {
   "cell_type": "code",
   "execution_count": 1,
   "id": "953de1c5",
   "metadata": {},
   "outputs": [],
   "source": [
    "def sum_all(n):\n",
    "    total = 0\n",
    "    for num in range(1,n+1):\n",
    "        total += num\n",
    "    return total"
   ]
  },
  {
   "cell_type": "code",
   "execution_count": 3,
   "id": "91b22a03",
   "metadata": {},
   "outputs": [
    {
     "data": {
      "text/plain": [
       "5050"
      ]
     },
     "execution_count": 3,
     "metadata": {},
     "output_type": "execute_result"
    }
   ],
   "source": [
    "sum_all(100)"
   ]
  },
  {
   "cell_type": "code",
   "execution_count": 5,
   "id": "9145c80b",
   "metadata": {},
   "outputs": [
    {
     "data": {
      "text/plain": [
       "5050"
      ]
     },
     "execution_count": 5,
     "metadata": {},
     "output_type": "execute_result"
    }
   ],
   "source": [
    "def sum_all(n):\n",
    "    return int( n*(n+1) / 2)\n",
    "\n",
    "sum_all(100)"
   ]
  },
  {
   "cell_type": "code",
   "execution_count": 6,
   "id": "520a672c",
   "metadata": {},
   "outputs": [
    {
     "data": {
      "text/plain": [
       "[0, 0, 0, 0, 0, 0, 0, 0, 0, 0]"
      ]
     },
     "execution_count": 6,
     "metadata": {},
     "output_type": "execute_result"
    }
   ],
   "source": [
    "hash_table = list([0 for i in range(10)]) #list comprehension \n",
    "hash_table"
   ]
  },
  {
   "cell_type": "code",
   "execution_count": 13,
   "id": "d17beeed",
   "metadata": {},
   "outputs": [],
   "source": [
    "def hash_func(key):\n",
    "    return key%5"
   ]
  },
  {
   "cell_type": "code",
   "execution_count": 14,
   "id": "8fa2a885",
   "metadata": {},
   "outputs": [
    {
     "name": "stdout",
     "output_type": "stream",
     "text": [
      "104 112 33\n"
     ]
    }
   ],
   "source": [
    "data1 = 'hi'\n",
    "data2 = 'python'\n",
    "data3 = '!!!'\n",
    "print(ord(data1[0]), ord(data2[0]), ord(data3[0]))"
   ]
  },
  {
   "cell_type": "code",
   "execution_count": 15,
   "id": "e4b31f17",
   "metadata": {},
   "outputs": [
    {
     "name": "stdout",
     "output_type": "stream",
     "text": [
      "104 4\n"
     ]
    }
   ],
   "source": [
    "print(ord(data1[0]), hash_func(ord(data1[0])))\n",
    "    "
   ]
  },
  {
   "cell_type": "code",
   "execution_count": 16,
   "id": "56c0da57",
   "metadata": {},
   "outputs": [],
   "source": [
    "def storage_data(data, value):\n",
    "    key = ord(data[0])\n",
    "    hash_address = hash_func(key)\n",
    "    hash_table[hash_address] = value"
   ]
  },
  {
   "cell_type": "code",
   "execution_count": null,
   "id": "6ffec085",
   "metadata": {},
   "outputs": [],
   "source": []
  }
 ],
 "metadata": {
  "kernelspec": {
   "display_name": "Python 3",
   "language": "python",
   "name": "python3"
  },
  "language_info": {
   "codemirror_mode": {
    "name": "ipython",
    "version": 3
   },
   "file_extension": ".py",
   "mimetype": "text/x-python",
   "name": "python",
   "nbconvert_exporter": "python",
   "pygments_lexer": "ipython3",
   "version": "3.8.8"
  }
 },
 "nbformat": 4,
 "nbformat_minor": 5
}
