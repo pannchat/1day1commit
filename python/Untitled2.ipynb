{
 "cells": [
  {
   "cell_type": "code",
   "execution_count": 1,
   "id": "acdfec4d",
   "metadata": {},
   "outputs": [],
   "source": [
    "def sum_all(n):\n",
    "    total = 0\n",
    "    for num in range(1,n+1):\n",
    "        total += num\n",
    "    return total"
   ]
  },
  {
   "cell_type": "code",
   "execution_count": 3,
   "id": "38a8966b",
   "metadata": {},
   "outputs": [
    {
     "data": {
      "text/plain": [
       "5050"
      ]
     },
     "execution_count": 3,
     "metadata": {},
     "output_type": "execute_result"
    }
   ],
   "source": [
    "sum_all(100)"
   ]
  },
  {
   "cell_type": "code",
   "execution_count": 5,
   "id": "92739505",
   "metadata": {},
   "outputs": [
    {
     "data": {
      "text/plain": [
       "5050"
      ]
     },
     "execution_count": 5,
     "metadata": {},
     "output_type": "execute_result"
    }
   ],
   "source": [
    "def sum_all(n):\n",
    "    return int( n*(n+1) / 2)\n",
    "\n",
    "sum_all(100)"
   ]
  },
  {
   "cell_type": "code",
   "execution_count": 6,
   "id": "055e2ad6",
   "metadata": {},
   "outputs": [
    {
     "data": {
      "text/plain": [
       "[0, 0, 0, 0, 0, 0, 0, 0, 0, 0]"
      ]
     },
     "execution_count": 6,
     "metadata": {},
     "output_type": "execute_result"
    }
   ],
   "source": [
    "hash_table = list([0 for i in range(10)]) #list comprehension \n",
    "hash_table"
   ]
  },
  {
   "cell_type": "code",
   "execution_count": 13,
   "id": "f5860dca",
   "metadata": {},
   "outputs": [],
   "source": [
    "def hash_func(key):\n",
    "    return key%5"
   ]
  },
  {
   "cell_type": "code",
   "execution_count": 14,
   "id": "d4c77314",
   "metadata": {},
   "outputs": [
    {
     "name": "stdout",
     "output_type": "stream",
     "text": [
      "104 112 33\n"
     ]
    }
   ],
   "source": [
    "data1 = 'hi'\n",
    "data2 = 'python'\n",
    "data3 = '!!!'\n",
    "print(ord(data1[0]), ord(data2[0]), ord(data3[0]))"
   ]
  },
  {
   "cell_type": "code",
   "execution_count": 15,
   "id": "6856928c",
   "metadata": {},
   "outputs": [
    {
     "name": "stdout",
     "output_type": "stream",
     "text": [
      "104 4\n"
     ]
    }
   ],
   "source": [
    "print(ord(data1[0]), hash_func(ord(data1[0])))\n",
    "    "
   ]
  },
  {
   "cell_type": "code",
   "execution_count": 16,
   "id": "f697a942",
   "metadata": {},
   "outputs": [],
   "source": [
    "def storage_data(data, value):\n",
    "    key = ord(data[0])\n",
    "    hash_address = hash_func(key)\n",
    "    hash_table[hash_address] = value"
   ]
  },
  {
   "cell_type": "code",
   "execution_count": 17,
   "id": "68e6f094",
   "metadata": {},
   "outputs": [],
   "source": [
    "storage_data('JS','javascript')\n",
    "storage_data('HTML','Hyper Text Markup Language')"
   ]
  },
  {
   "cell_type": "code",
   "execution_count": 18,
   "id": "bb23aacd",
   "metadata": {},
   "outputs": [],
   "source": [
    "def get_data(data):\n",
    "    key = ord(data[0])\n",
    "    hash_address = hash_func(key)\n",
    "    return hash_table[hash_address]"
   ]
  },
  {
   "cell_type": "code",
   "execution_count": 19,
   "id": "6225841f",
   "metadata": {},
   "outputs": [
    {
     "data": {
      "text/plain": [
       "'javascript'"
      ]
     },
     "execution_count": 19,
     "metadata": {},
     "output_type": "execute_result"
    }
   ],
   "source": [
    "get_data('JS')"
   ]
  },
  {
   "cell_type": "code",
   "execution_count": 27,
   "id": "734cbea7",
   "metadata": {},
   "outputs": [
    {
     "data": {
      "text/plain": [
       "'HyperTextMarkupLanguage'"
      ]
     },
     "execution_count": 27,
     "metadata": {},
     "output_type": "execute_result"
    }
   ],
   "source": [
    "hash_table = list([0 for i in range(8)])\n",
    "def get_key(data):\n",
    "    return hash(data)\n",
    "\n",
    "def hash_func(key):\n",
    "    return key % 8\n",
    "\n",
    "def save(data, value):\n",
    "    hash_addr = hash_func(get_key(data))\n",
    "    hash_table[hash_addr] = value\n",
    "\n",
    "def read(data):\n",
    "    hash_addr = hash_func(get_key(data))\n",
    "    return hash_table[hash_addr]\n",
    "\n",
    "save('JS', 'javascript')\n",
    "save('HTML', 'HyperTextMarkupLanguage')\n",
    "read('HTML')"
   ]
  },
  {
   "cell_type": "code",
   "execution_count": 28,
   "id": "9d70912b",
   "metadata": {},
   "outputs": [
    {
     "data": {
      "text/plain": [
       "[0, 'HyperTextMarkupLanguage', 0, 0, 0, 'javascript', 0, 0]"
      ]
     },
     "execution_count": 28,
     "metadata": {},
     "output_type": "execute_result"
    }
   ],
   "source": [
    "hash_table"
   ]
  },
  {
   "cell_type": "code",
   "execution_count": 53,
   "id": "d83ff180",
   "metadata": {},
   "outputs": [
    {
     "data": {
      "text/plain": [
       "'test2'"
      ]
     },
     "execution_count": 53,
     "metadata": {},
     "output_type": "execute_result"
    }
   ],
   "source": [
    "hash_table = list([0 for i in range(8)])\n",
    "def get_key(data):\n",
    "    return hash(data)\n",
    "\n",
    "def hash_func(key):\n",
    "    return key % 8\n",
    "\n",
    "def save(data, value):\n",
    "    index_key = get_key(data)# 같은 해시주소를가진 각각의 데이터의 키값으로 구분하기위해 키값을 활용한다\n",
    "    hash_addr = hash_func(index_key)\n",
    "    if hash_table[hash_addr] != 0: # 만약 비어있지 않다면\n",
    "        for index in range(len(hash_table[hash_addr])):\n",
    "            if hash_table[hash_addr][index][0] == index_key:\n",
    "                hash_table[hash_addr][index][1] = value\n",
    "                return\n",
    "        hash_table[hash_addr].append([index_key,value])\n",
    "    else:\n",
    "        hash_table[hash_addr] = [[index_key, value]]\n",
    "\n",
    "\n",
    "def read(data):\n",
    "    index_key = get_key(data)\n",
    "    hash_addr = hash_func(index_key)\n",
    "    if hash_table[hash_addr] != 0:\n",
    "        for index in range(len(hash_table[hash_addr])):\n",
    "            if hash_table[hash_addr][index][0] == index_key:\n",
    "                return hash_table[hash_addr][index][1]\n",
    "        return None\n",
    "    else:\n",
    "        return None\n",
    "\n",
    "save('Dd', 'test')\n",
    "save('Data', 'test2')\n",
    "read('Data')"
   ]
  },
  {
   "cell_type": "code",
   "execution_count": 56,
   "id": "2e1b020b",
   "metadata": {},
   "outputs": [
    {
     "data": {
      "text/plain": [
       "'test2'"
      ]
     },
     "execution_count": 56,
     "metadata": {},
     "output_type": "execute_result"
    }
   ],
   "source": [
    "hash_table = list([0 for i in range(8)])\n",
    "def get_key(data):\n",
    "    return hash(data)\n",
    "\n",
    "def hash_func(key):\n",
    "    return key % 8\n",
    "\n",
    "def save(data, value):\n",
    "    index_key = get_key(data)# 같은 해시주소를가진 각각의 데이터의 키값으로 구분하기위해 키값을 활용한다\n",
    "    hash_addr = hash_func(index_key)\n",
    "    if hash_table[hash_addr] != 0: # 만약 비어있지 않다면\n",
    "        for index in range(hash_table[hash_addr],len(hash_table)):\n",
    "            if hash_table[index] == 0:\n",
    "                hash_table[index] = [index_key, value]\n",
    "                return\n",
    "            elif hash_table[index][0] == index_key:\n",
    "                hash_table[index][1] = value\n",
    "                return\n",
    "    else:\n",
    "        hash_table[hash_addr] = [index_key, value]\n",
    "\n",
    "def read(data):\n",
    "    index_key = get_key(data)\n",
    "    hash_addr = hash_func(index_key)\n",
    "    if hash_table[hash_addr] != 0:\n",
    "        for index in range(hash_addr, len(hash_table)):\n",
    "            if hash_table[index] == 0:\n",
    "                return None\n",
    "            elif hash_table[index][0] == index_key:\n",
    "                return hash_table[index][1]\n",
    "        return None\n",
    "    else:\n",
    "        return None\n",
    "\n",
    "save('Dd', 'test')\n",
    "save('Data', 'test2')\n",
    "read('Data')"
   ]
  },
  {
   "cell_type": "code",
   "execution_count": 62,
   "id": "1827f192",
   "metadata": {},
   "outputs": [
    {
     "name": "stdout",
     "output_type": "stream",
     "text": [
      "a94a8fe5ccb19ba61c4c0873d391e987982fbbd3\n"
     ]
    }
   ],
   "source": [
    "import hashlib\n",
    "data = \"test\".encode()\n",
    "hash_object = hashlib.sha1()\n",
    "hash_object.update(data)\n",
    "hex_dig =  hash_object.hexdigest()\n",
    "print(hex_dig)"
   ]
  },
  {
   "cell_type": "code",
   "execution_count": 63,
   "id": "42a8b0fc",
   "metadata": {},
   "outputs": [
    {
     "name": "stdout",
     "output_type": "stream",
     "text": [
      "9f86d081884c7d659a2feaa0c55ad015a3bf4f1b2b0b822cd15d6c15b0f00a08\n"
     ]
    }
   ],
   "source": [
    "import hashlib\n",
    "data = \"test\".encode()\n",
    "hash_object = hashlib.sha256()\n",
    "hash_object.update(data)\n",
    "hex_dig =  hash_object.hexdigest()\n",
    "print(hex_dig)"
   ]
  },
  {
   "cell_type": "code",
   "execution_count": 66,
   "id": "4d0e1417",
   "metadata": {},
   "outputs": [
    {
     "data": {
      "text/plain": [
       "'test2'"
      ]
     },
     "execution_count": 66,
     "metadata": {},
     "output_type": "execute_result"
    }
   ],
   "source": [
    "import hashlib\n",
    "hash_table = list([0 for i in range(8)])\n",
    "def get_key(data):\n",
    "    hash_object = hashlib.sha256()\n",
    "    hash_object.update(data.encode())\n",
    "    hex_dig = hash_object.hexdigest()\n",
    "    return int(hex_dig,16)\n",
    "\n",
    "def hash_func(key):\n",
    "    return key % 8\n",
    "\n",
    "def save(data, value):\n",
    "    index_key = get_key(data)# 같은 해시주소를가진 각각의 데이터의 키값으로 구분하기위해 키값을 활용한다\n",
    "    hash_addr = hash_func(index_key)\n",
    "    if hash_table[hash_addr] != 0: # 만약 비어있지 않다면\n",
    "        for index in range(hash_table[hash_addr],len(hash_table)):\n",
    "            if hash_table[index] == 0:\n",
    "                hash_table[index] = [index_key, value]\n",
    "                return\n",
    "            elif hash_table[index][0] == index_key:\n",
    "                hash_table[index][1] = value\n",
    "                return\n",
    "    else:\n",
    "        hash_table[hash_addr] = [index_key, value]\n",
    "\n",
    "def read(data):\n",
    "    index_key = get_key(data)\n",
    "    hash_addr = hash_func(index_key)\n",
    "    if hash_table[hash_addr] != 0:\n",
    "        for index in range(hash_addr, len(hash_table)):\n",
    "            if hash_table[index] == 0:\n",
    "                return None\n",
    "            elif hash_table[index][0] == index_key:\n",
    "                return hash_table[index][1]\n",
    "        return None\n",
    "    else:\n",
    "        return None\n",
    "\n",
    "save('Dd', 'test')\n",
    "save('Data', 'test2')\n",
    "read('Data')"
   ]
  }
 ],
 "metadata": {
  "kernelspec": {
   "display_name": "Python 3",
   "language": "python",
   "name": "python3"
  },
  "language_info": {
   "codemirror_mode": {
    "name": "ipython",
    "version": 3
   },
   "file_extension": ".py",
   "mimetype": "text/x-python",
   "name": "python",
   "nbconvert_exporter": "python",
   "pygments_lexer": "ipython3",
   "version": "3.8.8"
  }
 },
 "nbformat": 4,
 "nbformat_minor": 5
}
